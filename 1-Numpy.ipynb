{
 "cells": [
  {
   "cell_type": "markdown",
   "id": "5aa54da6-12c1-4ea2-b6e5-9b46c52b682e",
   "metadata": {
    "tags": []
   },
   "source": [
    "# **ÖDEV-2**"
   ]
  },
  {
   "cell_type": "markdown",
   "id": "0fc79ed2-e47c-4fc8-9615-df8510cb7f1f",
   "metadata": {},
   "source": [
    "1-Numpy kütüphanesini import edin."
   ]
  },
  {
   "cell_type": "code",
   "execution_count": 1,
   "id": "3531c968",
   "metadata": {},
   "outputs": [],
   "source": [
    "import numpy as np"
   ]
  },
  {
   "cell_type": "markdown",
   "id": "e9252687-0c17-419f-befc-559632204b18",
   "metadata": {},
   "source": [
    "2-1'den 5 e kadar (5 dahil) b isimli bir dizi oluşturun."
   ]
  },
  {
   "cell_type": "code",
   "execution_count": 2,
   "id": "3bebce54",
   "metadata": {},
   "outputs": [
    {
     "data": {
      "text/plain": [
       "array([1, 2, 3, 4, 5])"
      ]
     },
     "execution_count": 2,
     "metadata": {},
     "output_type": "execute_result"
    }
   ],
   "source": [
    "b = np.array(range(1,6))\n",
    "b"
   ]
  },
  {
   "cell_type": "markdown",
   "id": "5664bfd3-8011-4575-a10a-f23b18a11fce",
   "metadata": {},
   "source": [
    "3- 20 adet 0'dan oluşan 4 x 5' lik dizi oluşturun."
   ]
  },
  {
   "cell_type": "code",
   "execution_count": 3,
   "id": "b004c19f",
   "metadata": {},
   "outputs": [
    {
     "data": {
      "text/plain": [
       "array([[0., 0., 0., 0., 0.],\n",
       "       [0., 0., 0., 0., 0.],\n",
       "       [0., 0., 0., 0., 0.],\n",
       "       [0., 0., 0., 0., 0.]])"
      ]
     },
     "execution_count": 3,
     "metadata": {},
     "output_type": "execute_result"
    }
   ],
   "source": [
    "np.zeros((4,5))"
   ]
  },
  {
   "cell_type": "markdown",
   "id": "b571ec93-687f-42d7-ba55-cd082eeee6fa",
   "metadata": {},
   "source": [
    "4- 15 adet 7 sayısından oluşan diziyi 3x5 olarak yazın."
   ]
  },
  {
   "cell_type": "code",
   "execution_count": 4,
   "id": "3a527c2b",
   "metadata": {},
   "outputs": [
    {
     "data": {
      "text/plain": [
       "array([[7, 7, 7, 7, 7],\n",
       "       [7, 7, 7, 7, 7],\n",
       "       [7, 7, 7, 7, 7]])"
      ]
     },
     "execution_count": 4,
     "metadata": {},
     "output_type": "execute_result"
    }
   ],
   "source": [
    "np.full((3,5), 7)"
   ]
  },
  {
   "cell_type": "markdown",
   "id": "ee34b066-12b3-45d9-92bc-62f88ab4c753",
   "metadata": {},
   "source": [
    "5- 10–70 e kadar 5 er artan sayıları yaz."
   ]
  },
  {
   "cell_type": "code",
   "execution_count": 5,
   "id": "0d9c6db3",
   "metadata": {},
   "outputs": [
    {
     "data": {
      "text/plain": [
       "array([10, 15, 20, 25, 30, 35, 40, 45, 50, 55, 60, 65])"
      ]
     },
     "execution_count": 5,
     "metadata": {},
     "output_type": "execute_result"
    }
   ],
   "source": [
    "np.arange(10, 70, 5)"
   ]
  },
  {
   "cell_type": "markdown",
   "id": "520efa56-fd4e-483c-a084-5ce79c0b687b",
   "metadata": {},
   "source": [
    "6- 10–20 arasında 15 aynı uzaklıkta elemanı olan array oluşturun. (linspace metodunu kullanın.)"
   ]
  },
  {
   "cell_type": "code",
   "execution_count": 6,
   "id": "005cbe5d",
   "metadata": {},
   "outputs": [
    {
     "data": {
      "text/plain": [
       "array([10.        , 10.71428571, 11.42857143, 12.14285714, 12.85714286,\n",
       "       13.57142857, 14.28571429, 15.        , 15.71428571, 16.42857143,\n",
       "       17.14285714, 17.85714286, 18.57142857, 19.28571429, 20.        ])"
      ]
     },
     "execution_count": 6,
     "metadata": {},
     "output_type": "execute_result"
    }
   ],
   "source": [
    "np.linspace(10, 20, 15)"
   ]
  },
  {
   "cell_type": "markdown",
   "id": "7b889d5c-5ae2-470d-afb8-dda163eb9109",
   "metadata": {},
   "source": [
    "7- Rastgele sayılardan oluşan diziyi 3x5 boyutunda yazdır."
   ]
  },
  {
   "cell_type": "code",
   "execution_count": 7,
   "id": "cb0374c7",
   "metadata": {},
   "outputs": [
    {
     "data": {
      "text/plain": [
       "array([[62, 10, 29, 98, 56],\n",
       "       [38, 16, 52, 91,  8],\n",
       "       [30, 60, 71, 99,  3]])"
      ]
     },
     "execution_count": 7,
     "metadata": {},
     "output_type": "execute_result"
    }
   ],
   "source": [
    "np.random.randint(100, size = (3, 5))"
   ]
  },
  {
   "cell_type": "markdown",
   "id": "ea4131f4-1ad8-465f-8cad-0e675b2d14a6",
   "metadata": {},
   "source": [
    "8- 5 elemanlı birim matris oluşturun. eye() metodu kullanın."
   ]
  },
  {
   "cell_type": "code",
   "execution_count": 8,
   "metadata": {},
   "outputs": [
    {
     "data": {
      "text/plain": [
       "array([[1., 0., 0., 0., 0.],\n",
       "       [0., 1., 0., 0., 0.],\n",
       "       [0., 0., 1., 0., 0.],\n",
       "       [0., 0., 0., 1., 0.],\n",
       "       [0., 0., 0., 0., 1.]])"
      ]
     },
     "execution_count": 8,
     "metadata": {},
     "output_type": "execute_result"
    }
   ],
   "source": [
    "np.eye(5)"
   ]
  },
  {
   "cell_type": "markdown",
   "id": "9977eb30-ba6a-40eb-b837-f044caf08532",
   "metadata": {},
   "source": [
    "9- 0'dan 24 e kadar array oluştur. Sonra reshape metodu ile 4x6 boyutu olarak yazın."
   ]
  },
  {
   "cell_type": "code",
   "execution_count": 9,
   "id": "401fb865",
   "metadata": {},
   "outputs": [
    {
     "data": {
      "text/plain": [
       "array([[ 0,  1,  2,  3,  4,  5],\n",
       "       [ 6,  7,  8,  9, 10, 11],\n",
       "       [12, 13, 14, 15, 16, 17],\n",
       "       [18, 19, 20, 21, 22, 23]])"
      ]
     },
     "execution_count": 9,
     "metadata": {},
     "output_type": "execute_result"
    }
   ],
   "source": [
    "x = np.array(range(0,24))\n",
    "x.reshape(4,6)"
   ]
  },
  {
   "cell_type": "markdown",
   "id": "ed17eab4-f8c9-4c7b-8cfc-33693ecc01df",
   "metadata": {},
   "source": [
    "10- 0 ile 1 arasında rastgele 10 sayıdan oluşan bir array tanımlayın. Minimum ve maksimum değerleri bulun."
   ]
  },
  {
   "cell_type": "code",
   "execution_count": 10,
   "id": "a0e4115f",
   "metadata": {},
   "outputs": [
    {
     "name": "stdout",
     "output_type": "stream",
     "text": [
      "0.7352432579613583\n",
      "0.04672915622419638\n"
     ]
    }
   ],
   "source": [
    "y = np.random.random(10)\n",
    "print(y.max())\n",
    "print(y.min())"
   ]
  },
  {
   "cell_type": "markdown",
   "id": "8e4d6c2a-806d-492b-bff9-a6b67b696b4e",
   "metadata": {},
   "source": [
    "11- 36 sayıdan oluşan rastgele sayılar 6x6' lık array olarak yazdırın."
   ]
  },
  {
   "cell_type": "code",
   "execution_count": 11,
   "id": "b0373da5",
   "metadata": {},
   "outputs": [
    {
     "data": {
      "text/plain": [
       "array([[16, 33, 18, 16, 26, 26],\n",
       "       [14, 33, 35, 17,  4, 15],\n",
       "       [34, 27,  8, 18,  2, 31],\n",
       "       [21,  1, 18, 15, 32, 29],\n",
       "       [ 3,  1, 29, 15,  5, 27],\n",
       "       [11,  4,  1, 11,  4, 24]])"
      ]
     },
     "execution_count": 11,
     "metadata": {},
     "output_type": "execute_result"
    }
   ],
   "source": [
    "z = np.random.randint(36, size = (6,6))\n",
    "z"
   ]
  },
  {
   "cell_type": "markdown",
   "id": "c81dc2f7-5c00-4d43-853e-5cc4035e6eca",
   "metadata": {},
   "source": [
    "12- 5.satırdaki elemanları gösteriniz."
   ]
  },
  {
   "cell_type": "code",
   "execution_count": 12,
   "id": "d6f02c5b",
   "metadata": {},
   "outputs": [
    {
     "data": {
      "text/plain": [
       "array([ 3,  1, 29, 15,  5, 27])"
      ]
     },
     "execution_count": 12,
     "metadata": {},
     "output_type": "execute_result"
    }
   ],
   "source": [
    "z[4]"
   ]
  },
  {
   "cell_type": "markdown",
   "id": "245ff696-9131-4099-b4da-fd6a742638a7",
   "metadata": {},
   "source": [
    "13- 6.satır ve 6.sutundaki elemanları gösteriniz."
   ]
  },
  {
   "cell_type": "code",
   "execution_count": 13,
   "id": "0ef3797f",
   "metadata": {},
   "outputs": [
    {
     "name": "stdout",
     "output_type": "stream",
     "text": [
      "[[11  4  1 11  4 24]]\n",
      "[[26]\n",
      " [15]\n",
      " [31]\n",
      " [29]\n",
      " [27]\n",
      " [24]]\n"
     ]
    }
   ],
   "source": [
    "print(z[[5], :])\n",
    "print(z[:, [5]])"
   ]
  },
  {
   "cell_type": "markdown",
   "id": "0c33bb81-f4a9-4a67-8ab8-d422db01c442",
   "metadata": {},
   "source": [
    "14-4.sutundaki tüm elemanları çekin."
   ]
  },
  {
   "cell_type": "code",
   "execution_count": 14,
   "id": "35574265",
   "metadata": {},
   "outputs": [
    {
     "data": {
      "text/plain": [
       "array([[16],\n",
       "       [17],\n",
       "       [18],\n",
       "       [15],\n",
       "       [15],\n",
       "       [11]])"
      ]
     },
     "execution_count": 14,
     "metadata": {},
     "output_type": "execute_result"
    }
   ],
   "source": [
    "z[:,[3]]"
   ]
  },
  {
   "cell_type": "markdown",
   "id": "e1ad52f0-1293-4db1-8825-78b65b87f7ba",
   "metadata": {},
   "source": [
    "15- For döngüsünü ve flat metodunu kullanarak satır satır elemanları yazdırınız."
   ]
  },
  {
   "cell_type": "code",
   "execution_count": 15,
   "id": "e6518692",
   "metadata": {},
   "outputs": [
    {
     "name": "stdout",
     "output_type": "stream",
     "text": [
      "[16 33 18 16 26 26]\n",
      "[14 33 35 17  4 15]\n",
      "[34 27  8 18  2 31]\n",
      "[21  1 18 15 32 29]\n",
      "[ 3  1 29 15  5 27]\n",
      "[11  4  1 11  4 24]\n"
     ]
    }
   ],
   "source": [
    "for i in range(len(z)):\n",
    "    print(z[i].flatten())\n"
   ]
  },
  {
   "cell_type": "markdown",
   "id": "01f6ea0d-c5a4-41c4-a065-353930cc9fc3",
   "metadata": {},
   "source": [
    "16- 0 ile 1 aralığında bir array oluştur. Bu array değerini 5 ile çarpın."
   ]
  },
  {
   "cell_type": "code",
   "execution_count": 16,
   "id": "73fd7210",
   "metadata": {},
   "outputs": [
    {
     "name": "stdout",
     "output_type": "stream",
     "text": [
      "[0.35464244 0.44681227 0.9930846  0.4016443  0.46079548]\n",
      "[1.7732122  2.23406133 4.965423   2.00822149 2.30397738]\n"
     ]
    }
   ],
   "source": [
    "v = np.random.random(size = 5)\n",
    "y = v * 5\n",
    "print(v)\n",
    "print(y)"
   ]
  },
  {
   "cell_type": "markdown",
   "id": "4188e6c6-a996-479a-8659-f9786e51c7c7",
   "metadata": {},
   "source": [
    "16- Satırların toplam değeri nedir?"
   ]
  },
  {
   "cell_type": "code",
   "execution_count": 17,
   "id": "cd72dde2",
   "metadata": {},
   "outputs": [
    {
     "name": "stdout",
     "output_type": "stream",
     "text": [
      "2.656979079076755\n",
      "13.284895395383778\n"
     ]
    }
   ],
   "source": [
    "print(v.sum())\n",
    "print(y.sum())"
   ]
  },
  {
   "cell_type": "markdown",
   "id": "8499b1c0-f59c-49f9-9371-ecba2ec4881b",
   "metadata": {},
   "source": [
    "17-Satırların standart sapma değeri nedir?"
   ]
  },
  {
   "cell_type": "code",
   "execution_count": 18,
   "id": "1332644a",
   "metadata": {},
   "outputs": [
    {
     "name": "stdout",
     "output_type": "stream",
     "text": [
      "0.23382580265056457\n",
      "1.1691290132528231\n"
     ]
    }
   ],
   "source": [
    "print(v.std())\n",
    "print(y.std())"
   ]
  },
  {
   "cell_type": "markdown",
   "id": "72b44cf8-59a7-41e4-88c8-ef467855de60",
   "metadata": {},
   "source": [
    "18-Satırların varyans değeri nedir?"
   ]
  },
  {
   "cell_type": "code",
   "execution_count": 19,
   "id": "0f6a750d",
   "metadata": {},
   "outputs": [
    {
     "name": "stdout",
     "output_type": "stream",
     "text": [
      "0.05467450598518077\n",
      "1.3668626496295198\n"
     ]
    }
   ],
   "source": [
    "print(v.var())\n",
    "print(y.var())"
   ]
  },
  {
   "cell_type": "markdown",
   "id": "84a08fe8-e474-4af1-8025-f295cc463a1a",
   "metadata": {},
   "source": [
    "19- Satırların transpoz değeri nedir?"
   ]
  },
  {
   "cell_type": "code",
   "execution_count": 20,
   "metadata": {},
   "outputs": [
    {
     "name": "stdout",
     "output_type": "stream",
     "text": [
      "[0.35464244 0.44681227 0.9930846  0.4016443  0.46079548]\n",
      "[1.7732122  2.23406133 4.965423   2.00822149 2.30397738]\n"
     ]
    }
   ],
   "source": [
    "print(v.transpose())\n",
    "print(y.transpose())"
   ]
  }
 ],
 "metadata": {
  "interpreter": {
   "hash": "e2a6e88d68b59fef18cde065ccb6cad3c7e290647c4617114a23d62667b18ed6"
  },
  "kernelspec": {
   "display_name": "Python 3.9.12",
   "language": "python",
   "name": "python3"
  },
  "language_info": {
   "codemirror_mode": {
    "name": "ipython",
    "version": 3
   },
   "file_extension": ".py",
   "mimetype": "text/x-python",
   "name": "python",
   "nbconvert_exporter": "python",
   "pygments_lexer": "ipython3",
   "version": "3.9.12"
  }
 },
 "nbformat": 4,
 "nbformat_minor": 5
}
